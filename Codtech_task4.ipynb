{
 "cells": [
  {
   "cell_type": "markdown",
   "id": "0d639bd2-e6d4-40e6-8c96-228106eb7b50",
   "metadata": {},
   "source": [
    "# TASK 4"
   ]
  },
  {
   "cell_type": "markdown",
   "id": "e7dcaa41-c0e6-4d2d-b3d5-d48de42864b7",
   "metadata": {},
   "source": [
    "# OPMITIZATION MODEL "
   ]
  },
  {
   "cell_type": "code",
   "execution_count": 5,
   "id": "392cde3b-3bdd-4f98-a6f0-7b19aeb32f74",
   "metadata": {},
   "outputs": [
    {
     "name": "stdout",
     "output_type": "stream",
     "text": [
      "Collecting pulp\n",
      "  Downloading pulp-3.1.1-py3-none-any.whl.metadata (1.3 kB)\n",
      "Downloading pulp-3.1.1-py3-none-any.whl (16.4 MB)\n",
      "   ---------------------------------------- 0.0/16.4 MB ? eta -:--:--\n",
      "    --------------------------------------- 0.3/16.4 MB ? eta -:--:--\n",
      "   - -------------------------------------- 0.5/16.4 MB 1.7 MB/s eta 0:00:10\n",
      "   - -------------------------------------- 0.8/16.4 MB 1.5 MB/s eta 0:00:11\n",
      "   -- ------------------------------------- 1.0/16.4 MB 1.7 MB/s eta 0:00:10\n",
      "   --- ------------------------------------ 1.3/16.4 MB 1.6 MB/s eta 0:00:10\n",
      "   ---- ----------------------------------- 1.8/16.4 MB 1.5 MB/s eta 0:00:10\n",
      "   ----- ---------------------------------- 2.4/16.4 MB 1.7 MB/s eta 0:00:09\n",
      "   ------- -------------------------------- 2.9/16.4 MB 1.8 MB/s eta 0:00:08\n",
      "   -------- ------------------------------- 3.4/16.4 MB 1.9 MB/s eta 0:00:07\n",
      "   ---------- ----------------------------- 4.2/16.4 MB 2.1 MB/s eta 0:00:06\n",
      "   ----------- ---------------------------- 4.7/16.4 MB 2.2 MB/s eta 0:00:06\n",
      "   ------------ --------------------------- 5.2/16.4 MB 2.2 MB/s eta 0:00:06\n",
      "   ------------- -------------------------- 5.5/16.4 MB 2.2 MB/s eta 0:00:05\n",
      "   --------------- ------------------------ 6.3/16.4 MB 2.3 MB/s eta 0:00:05\n",
      "   ---------------- ----------------------- 6.8/16.4 MB 2.3 MB/s eta 0:00:05\n",
      "   ----------------- ---------------------- 7.3/16.4 MB 2.3 MB/s eta 0:00:04\n",
      "   ------------------- -------------------- 7.9/16.4 MB 2.3 MB/s eta 0:00:04\n",
      "   -------------------- ------------------- 8.4/16.4 MB 2.3 MB/s eta 0:00:04\n",
      "   --------------------- ------------------ 8.9/16.4 MB 2.3 MB/s eta 0:00:04\n",
      "   ----------------------- ---------------- 9.4/16.4 MB 2.3 MB/s eta 0:00:03\n",
      "   ------------------------ --------------- 10.0/16.4 MB 2.3 MB/s eta 0:00:03\n",
      "   ------------------------ --------------- 10.2/16.4 MB 2.3 MB/s eta 0:00:03\n",
      "   -------------------------- ------------- 11.0/16.4 MB 2.3 MB/s eta 0:00:03\n",
      "   ---------------------------- ----------- 11.5/16.4 MB 2.4 MB/s eta 0:00:03\n",
      "   ----------------------------- ---------- 12.1/16.4 MB 2.4 MB/s eta 0:00:02\n",
      "   ------------------------------ --------- 12.6/16.4 MB 2.4 MB/s eta 0:00:02\n",
      "   ------------------------------- -------- 12.8/16.4 MB 2.4 MB/s eta 0:00:02\n",
      "   -------------------------------- ------- 13.4/16.4 MB 2.3 MB/s eta 0:00:02\n",
      "   --------------------------------- ------ 13.9/16.4 MB 2.4 MB/s eta 0:00:02\n",
      "   ----------------------------------- ---- 14.4/16.4 MB 2.3 MB/s eta 0:00:01\n",
      "   ----------------------------------- ---- 14.4/16.4 MB 2.3 MB/s eta 0:00:01\n",
      "   ------------------------------------- -- 15.2/16.4 MB 2.3 MB/s eta 0:00:01\n",
      "   ------------------------------------- -- 15.5/16.4 MB 2.3 MB/s eta 0:00:01\n",
      "   -------------------------------------- - 15.7/16.4 MB 2.3 MB/s eta 0:00:01\n",
      "   ---------------------------------------  16.3/16.4 MB 2.2 MB/s eta 0:00:01\n",
      "   ---------------------------------------- 16.4/16.4 MB 2.2 MB/s eta 0:00:00\n",
      "Installing collected packages: pulp\n",
      "Successfully installed pulp-3.1.1\n",
      "Note: you may need to restart the kernel to use updated packages.\n"
     ]
    }
   ],
   "source": [
    "pip install pulp"
   ]
  },
  {
   "cell_type": "code",
   "execution_count": 15,
   "id": "bd43acb5-3c14-4741-9b47-dcbb83bd7d36",
   "metadata": {},
   "outputs": [
    {
     "name": "stdout",
     "output_type": "stream",
     "text": [
      "Produce 6.0 units of Product A\n",
      "Produce 0.0 units of Product B\n",
      "Maximum Profit: ₹180.0\n"
     ]
    }
   ],
   "source": [
    "from pulp import LpMaximize, LpProblem, LpVariable,value\n",
    "import warnings\n",
    "warnings.filterwarnings('ignore')\n",
    "\n",
    "\n",
    "# Linear Program create cheyyadam\n",
    "problem = LpProblem(\"Maximize Profit\", LpMaximize)\n",
    "\n",
    "# Decision Variables define cheyyadam\n",
    "x = LpVariable('x', lowBound=0, cat='Continuous')  # Product A\n",
    "y = LpVariable('y', lowBound=0, cat='Continuous')  # Product B\n",
    "\n",
    "# Objective Function\n",
    "problem += 30 * x + 40 * y\n",
    "\n",
    "# Constraints\n",
    "problem += 2 * x + 3 * y <= 12  # Time constraint\n",
    "\n",
    "# Solve cheyyadam\n",
    "problem.solve()\n",
    "\n",
    "# Results print cheyyadam\n",
    "print(f\"Produce {x.varValue} units of Product A\")\n",
    "print(f\"Produce {y.varValue} units of Product B\")\n",
    "print(f\"Maximum Profit: ₹{value(problem.objective)}\")\n"
   ]
  },
  {
   "cell_type": "markdown",
   "id": "5181fdca-18f0-4694-ae8f-079520bf418d",
   "metadata": {},
   "source": [
    "##  Problem Statement\n",
    "A manufacturing company produces two products: Product A and Product B.\n",
    "Each unit of these products requires a certain number of hours to produce, and the company has limited labor hours available.\n",
    "The company wants to decide how many units of Product A and Product B to produce to maximize profit, without exceeding the total available production time.\n",
    "\n",
    "A company manufactures two products: Product A and Product B.\n",
    "\n",
    "Each unit of Product A gives a profit of ₹30\n",
    "\n",
    "Each unit of Product B gives a profit of ₹20\n",
    "\n",
    "The machine has a total of 12 hours available\n",
    "\n",
    "Product A takes 2 hours per unit\n",
    "\n",
    "Product B takes 1 hours per unit\n",
    "\n",
    "x = number of units of Product A\n",
    "\n",
    "y = number of units of Product B"
   ]
  },
  {
   "cell_type": "markdown",
   "id": "ca0050a2-e716-4b8f-a401-af88d15254ff",
   "metadata": {},
   "source": [
    "## Objective \n",
    "\n",
    "Maximize the total profit while staying within the time constraint.\n",
    "\n",
    "* Maximize total profit:\n",
    "Profit=30𝑥+20𝑦\n",
    "\n",
    "\n"
   ]
  },
  {
   "cell_type": "markdown",
   "id": "6fbbc152-a3c7-4f16-81a0-4f0c22ffaf25",
   "metadata": {},
   "source": [
    "## Constraints \n",
    "limits of this solution this Time limit  , Non-negativity Constraints\n",
    "\n",
    "* Time Constraint : 2x+1y≤12\n",
    "\n",
    "* Non-negativity : x≥0,y≥0"
   ]
  },
  {
   "cell_type": "markdown",
   "id": "e24794da-b592-4535-9899-6e3dad804daf",
   "metadata": {},
   "source": [
    "## Solution \n",
    "Produce 6.0 units of Product A\n",
    "\n",
    "Produce 0.0 units of Product B\n",
    "\n",
    "Maximum Profit: ₹180.0"
   ]
  },
  {
   "cell_type": "markdown",
   "id": "c5f06f74-6615-48b6-8adb-f3aa48e3b7ff",
   "metadata": {},
   "source": [
    "## insights \n",
    "The optimal solution is to produce 6 units of Product A and 0 units of Product B.\n",
    "\n",
    "* This is because Product A gives higher profit per hour (₹30/2 = ₹15) compared to Product B (₹20/1 = ₹20), but due to time constraints and combinations, producing only A gives the best total profit in this case.\n",
    "\n",
    "* Maximum profit achievable = ₹180.\n",
    "\n",
    "* Business Insight:\n",
    "This result helps the company decide its production plan under limited resources. If more time becomes available or product values change, the company can re-run the model to get updated strategies."
   ]
  },
  {
   "cell_type": "code",
   "execution_count": null,
   "id": "f0a6e7f9-628c-44ff-935f-81de277c2a2d",
   "metadata": {},
   "outputs": [],
   "source": []
  }
 ],
 "metadata": {
  "kernelspec": {
   "display_name": "Python [conda env:base] *",
   "language": "python",
   "name": "conda-base-py"
  },
  "language_info": {
   "codemirror_mode": {
    "name": "ipython",
    "version": 3
   },
   "file_extension": ".py",
   "mimetype": "text/x-python",
   "name": "python",
   "nbconvert_exporter": "python",
   "pygments_lexer": "ipython3",
   "version": "3.12.7"
  }
 },
 "nbformat": 4,
 "nbformat_minor": 5
}
